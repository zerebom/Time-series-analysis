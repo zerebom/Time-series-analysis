{
 "cells": [
  {
   "cell_type": "code",
   "execution_count": null,
   "metadata": {},
   "outputs": [],
   "source": [
    "import MeCab\n",
    "from collections import Counter\n",
    "import matplotlib.pyplot as plt\n",
    "from matplotlib.font_manager import FontProperties\n",
    "import urllib3\n",
    "import pandas as pd\n",
    "import xlsxwriter\n",
    "import numpy as np\n",
    "from sklearn.feature_extraction.text import CountVectorizer\n",
    "from sklearn.feature_extraction.text import TfidfTransformer\n",
    "import glob\n",
    "from Mecab_func import *\n",
    "import re"
   ]
  },
  {
   "cell_type": "code",
   "execution_count": null,
   "metadata": {},
   "outputs": [],
   "source": [
    "def new_mecab(fname,fname_parsed):\n",
    "    Matubi=[]\n",
    "    with open(fname,errors='ignore',encoding='utf-8_sig') as data_file, \\\n",
    "            open(fname_parsed, mode='w',errors='ignore') as out_file:\n",
    "                #空白文字を削除する\n",
    "                text_data=data_file.read()\n",
    "                text_data=re.sub('.+　','',text_data)\n",
    "                #改行で区切る\n",
    "                text_data=re.sub('\\n','',text_data)\n",
    "                #句点で区切り、最後の要素を抜き取る\n",
    "                text_data=text_data.split('。')\n",
    "                for i,text in enumerate(text_data):\n",
    "                    #読点以前を削除する\n",
    "                    text=text.split('、')\n",
    "                    #なぜか先頭に空白文字が入るので取り除く↓。\n",
    "                    text[0]=text[0].lstrip()\n",
    "                    #読点以降のみが集まる↓\n",
    "                    text[-1]+='。'\n",
    "                    Matubi.append(text[-1])\n",
    "                \n",
    "                Matubi.pop(-1)\n",
    "                print(Matubi)\n",
    "                out_file.write('\\n'.join(Matubi))"
   ]
  },
  {
   "cell_type": "code",
   "execution_count": null,
   "metadata": {
    "scrolled": true
   },
   "outputs": [],
   "source": [
    "#末尾表現取り出す用の関数\n",
    "import os\n",
    "file_list=glob.glob(r'C:\\Users\\icech\\Desktop\\share\\Lab\\2018_07_04\\Docments\\Old_yato\\old_text/*.txt')\n",
    "\n",
    "for file in file_list:\n",
    "    ftitle,fext=os.path.splitext(file)\n",
    "    new_mecab(file,'{}_matubi{}'.format(ftitle,fext))\n",
    "    "
   ]
  },
  {
   "cell_type": "code",
   "execution_count": null,
   "metadata": {},
   "outputs": [],
   "source": [
    "#末尾表現をMeCab化するセル\n",
    "import os\n",
    "import glob\n",
    "file_list2=glob.glob(r'C:\\Users\\icech\\Desktop\\share\\Lab\\2018_07_04\\Docments\\New_yato\\Matubi/*.txt')\n",
    "\n",
    "for file in file_list2:\n",
    "    ftitle,fext=os.path.splitext(file)\n",
    "    to_mecab(file,'{}.mecab'.format(file))\n"
   ]
  },
  {
   "cell_type": "code",
   "execution_count": null,
   "metadata": {},
   "outputs": [],
   "source": [
    "def Output_matsubi_BoWList(write_file,mecab_file):\n",
    "\n",
    "    copus=[]\n",
    "    #語数カウンター\n",
    "    word=\"\"\n",
    "    for morphemes in make_lines2(mecab_file):\n",
    "        print(morphemes)\n",
    "    #   ↑デバッグ用\n",
    "        # word_counter.update([morpheme['surface']])\n",
    "\n",
    "        if len(morphemes)>=5:\n",
    "            copus.append(morphemes[-5]+morphemes[-4]+morphemes[-3]+morphemes[-2])\n",
    "        elif len(morphemes)>=4:\n",
    "            copus.append(morphemes[-4]+morphemes[-3]+morphemes[-2])\n",
    "            # print(copus)\n",
    "            # print(3)\n",
    "        elif len(morphemes)>=3:\n",
    "            # print(morphemes)\n",
    "            copus.append(morphemes[-3]+morphemes[-2])\n",
    "            # print(copus)\n",
    "            # print(2)\n",
    "        elif len(morphemes)>=2:\n",
    "            copus.append(morphemes[-2])\n",
    "            # print(copus)\n",
    "            # print(1)\n",
    "    # print('--------------coups---------------------------')        \n",
    "    print(copus)\n",
    "    # print('--------------coups---------------------------')        \n",
    "\n",
    "    word=' '.join(copus)\n",
    "    # word+=copus\n",
    "    print('--------------word---------------------------')      \n",
    "    print(word)\n",
    "    print('--------------word---------------------------')\n",
    "    # return copus\n",
    "    return word      \n",
    "    # with open(write_file, mode='w',errors='ignore') as out_file:\n",
    "    #     out_file.write(word)\n"
   ]
  },
  {
   "cell_type": "code",
   "execution_count": null,
   "metadata": {},
   "outputs": [],
   "source": [
    "file_list2=glob.glob(r'C:\\Users\\icech\\Desktop\\share\\Lab\\2018_07_04\\Docments\\Old_yato\\Matubi/*.mecab')\n",
    "\n",
    "for file in file_list2:\n",
    "    print(file)\n",
    "    ftitle,fext=os.path.splitext(file)\n",
    "    Output_matsubi_BoWList('hoge',file)"
   ]
  },
  {
   "cell_type": "code",
   "execution_count": null,
   "metadata": {
    "scrolled": true
   },
   "outputs": [],
   "source": [
    "new_list=glob.glob(r'C:\\Users\\icech\\Desktop\\share\\Lab\\2018_07_04\\Docments\\New_yato\\new_text')\n",
    "old_list=glob.glob(r'C:\\Users\\icech\\Desktop\\share\\Lab\\2018_07_04\\Docments\\Old_yato\\old_text')\n",
    "\n",
    "for file in new_list:\n",
    "    to_mecab(file,'{}.mecab'.format(file))\n",
    "\n",
    "for file in old_list:\n",
    "    to_mecab(file,'{}.mecab'.format(file))    "
   ]
  },
  {
   "cell_type": "code",
   "execution_count": null,
   "metadata": {},
   "outputs": [],
   "source": [
    "import datetime as time\n",
    "import calendar\n",
    "\n",
    "\n",
    "start_date=[]\n",
    "end_date=[]\n",
    "\n",
    "for year in range(2010,2018): \n",
    "    for month in range(1,13):\n",
    "        start_date.append(str(time.date(year,month,1)))\n",
    "        last_day = calendar.monthrange(year, month)[1]\n",
    "        end_date.append(str(time.date(year,month,last_day)))\n",
    "        \n",
    "print(start_date)    \n",
    "print(end_date)"
   ]
  }
 ],
 "metadata": {
  "kernelspec": {
   "display_name": "Python 3",
   "language": "python",
   "name": "python3"
  },
  "language_info": {
   "codemirror_mode": {
    "name": "ipython",
    "version": 3
   },
   "file_extension": ".py",
   "mimetype": "text/x-python",
   "name": "python",
   "nbconvert_exporter": "python",
   "pygments_lexer": "ipython3",
   "version": "3.6.5"
  }
 },
 "nbformat": 4,
 "nbformat_minor": 2
}
