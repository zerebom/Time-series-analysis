{
 "cells": [
  {
   "cell_type": "code",
   "execution_count": 1,
   "metadata": {},
   "outputs": [],
   "source": [
    "from 過去のコード.Mecab_func import *\n",
    "import glob\n",
    "import re\n",
    "import sys\n",
    "import os\n",
    "import pandas as pd\n",
    "import numpy as np"
   ]
  },
  {
   "cell_type": "code",
   "execution_count": 3,
   "metadata": {},
   "outputs": [
    {
     "name": "stdout",
     "output_type": "stream",
     "text": [
      "['先行増', '先行減', '現在増', '現在減', '遅行増', '遅行減']\n"
     ]
    },
    {
     "ename": "NameError",
     "evalue": "name 'new_count_morpheme' is not defined",
     "output_type": "error",
     "traceback": [
      "\u001b[1;31m---------------------------------------------------------------------------\u001b[0m",
      "\u001b[1;31mNameError\u001b[0m                                 Traceback (most recent call last)",
      "\u001b[1;32m<ipython-input-3-d51cced34d43>\u001b[0m in \u001b[0;36m<module>\u001b[1;34m()\u001b[0m\n\u001b[0;32m     12\u001b[0m \u001b[1;32mfor\u001b[0m \u001b[0mfolder\u001b[0m \u001b[1;32min\u001b[0m \u001b[0mfolders\u001b[0m\u001b[1;33m:\u001b[0m\u001b[1;33m\u001b[0m\u001b[0m\n\u001b[0;32m     13\u001b[0m         \u001b[0mword_counter\u001b[0m \u001b[1;33m=\u001b[0m \u001b[0mCounter\u001b[0m\u001b[1;33m(\u001b[0m\u001b[1;33m)\u001b[0m\u001b[1;33m\u001b[0m\u001b[0m\n\u001b[1;32m---> 14\u001b[1;33m         \u001b[0mcount_word\u001b[0m \u001b[1;33m,\u001b[0m\u001b[0mcount_cnt\u001b[0m \u001b[1;33m=\u001b[0m\u001b[0mzip\u001b[0m\u001b[1;33m(\u001b[0m\u001b[1;33m*\u001b[0m\u001b[0mnew_count_morpheme\u001b[0m\u001b[1;33m(\u001b[0m\u001b[0mword_class\u001b[0m\u001b[1;33m,\u001b[0m\u001b[0mfolder\u001b[0m\u001b[1;33m)\u001b[0m\u001b[1;33m.\u001b[0m\u001b[0mmost_common\u001b[0m\u001b[1;33m(\u001b[0m\u001b[1;36m200\u001b[0m\u001b[1;33m)\u001b[0m\u001b[1;33m)\u001b[0m\u001b[1;33m\u001b[0m\u001b[0m\n\u001b[0m\u001b[0;32m     15\u001b[0m         \u001b[0mcolmun_name\u001b[0m\u001b[1;33m=\u001b[0m\u001b[0mre\u001b[0m\u001b[1;33m.\u001b[0m\u001b[0msub\u001b[0m\u001b[1;33m(\u001b[0m\u001b[1;34mr'.+09_19.'\u001b[0m \u001b[1;33m,\u001b[0m \u001b[1;34m''\u001b[0m \u001b[1;33m,\u001b[0m \u001b[0mfolder\u001b[0m\u001b[1;33m)\u001b[0m\u001b[1;33m\u001b[0m\u001b[0m\n\u001b[0;32m     16\u001b[0m \u001b[1;33m\u001b[0m\u001b[0m\n",
      "\u001b[1;31mNameError\u001b[0m: name 'new_count_morpheme' is not defined"
     ]
    }
   ],
   "source": [
    "#未使用\n",
    "count_df=pd.DataFrame()\n",
    "folders=glob.glob(r'C:\\Users\\icech\\Desktop\\share\\Lab\\2018_09_05\\Docments\\09_19\\*')\n",
    "\n",
    "adversative=['だから','それで','そのため','このため','そこで','したがって','ゆえに','すると','それなら','それでは']\n",
    "resultative=['しかし','しかしながら','だけど','けれども','ところが','なのに','それなのに','でも','にもかかわらず','それでも','とはいうものの'] \n",
    "\n",
    "colmun_name=[re.sub(r'.+09_19.' , '' , folder) for folder in folders]\n",
    "\n",
    "\n",
    "\n",
    "\n",
    "for folder in folders:\n",
    "        word_counter = Counter()\n",
    "        count_word ,count_cnt =zip(*new_count_morpheme(word_class,folder).most_common(200))\n",
    "\n",
    "        \n",
    "        df_tmp[colmun_name]=count_word\n",
    "        df_tmp['count']=count_cnt\n",
    "        count_df=pd.concat([count_df,df_tmp],axis=1)\n",
    "\n",
    "grouped=df.groupby('')        \n",
    "\n",
    "ad_df=count_df['']\n",
    "        \n",
    "        \n",
    "    "
   ]
  },
  {
   "cell_type": "code",
   "execution_count": null,
   "metadata": {},
   "outputs": [],
   "source": []
  }
 ],
 "metadata": {
  "kernelspec": {
   "display_name": "Python 3",
   "language": "python",
   "name": "python3"
  },
  "language_info": {
   "codemirror_mode": {
    "name": "ipython",
    "version": 3
   },
   "file_extension": ".py",
   "mimetype": "text/x-python",
   "name": "python",
   "nbconvert_exporter": "python",
   "pygments_lexer": "ipython3",
   "version": "3.6.6"
  }
 },
 "nbformat": 4,
 "nbformat_minor": 2
}
