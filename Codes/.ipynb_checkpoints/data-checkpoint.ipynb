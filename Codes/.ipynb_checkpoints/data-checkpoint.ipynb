{
 "cells": [
  {
   "cell_type": "code",
   "execution_count": 6,
   "metadata": {},
   "outputs": [],
   "source": [
    "import datetime as time\n",
    "import calendar\n",
    "def Date(start_year,end_year,start_month,end_month):\n",
    "    start_date=[]\n",
    "    end_date=[]\n",
    "\n",
    "    for year in range(start_year,end_year): \n",
    "        for month in range(start_month,end_month+1):\n",
    "            start_date.append(str(time.date(year,month,1)))\n",
    "            last_day = calendar.monthrange(year, month)[1]\n",
    "            end_date.append(str(time.date(year,month,last_day)))\n",
    "    return(start_date,end_date)        "
   ]
  }
 ],
 "metadata": {
  "kernelspec": {
   "display_name": "Python 3",
   "language": "python",
   "name": "python3"
  },
  "language_info": {
   "codemirror_mode": {
    "name": "ipython",
    "version": 3
   },
   "file_extension": ".py",
   "mimetype": "text/x-python",
   "name": "python",
   "nbconvert_exporter": "python",
   "pygments_lexer": "ipython3",
   "version": "3.6.6"
  }
 },
 "nbformat": 4,
 "nbformat_minor": 2
}
